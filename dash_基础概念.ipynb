{
 "cells": [
  {
   "cell_type": "markdown",
   "id": "dfbde62a",
   "metadata": {},
   "source": [
    "## dash基础概念、应用"
   ]
  },
  {
   "cell_type": "code",
   "execution_count": 1,
   "id": "f21d9fb7",
   "metadata": {},
   "outputs": [
    {
     "name": "stdout",
     "output_type": "stream",
     "text": [
      "Dash is running on http://127.0.0.1:8050/\n",
      "\n",
      " * Serving Flask app '__main__' (lazy loading)\n",
      " * Environment: production\n",
      "\u001b[31m   WARNING: This is a development server. Do not use it in a production deployment.\u001b[0m\n",
      "\u001b[2m   Use a production WSGI server instead.\u001b[0m\n",
      " * Debug mode: off\n"
     ]
    },
    {
     "name": "stderr",
     "output_type": "stream",
     "text": [
      " * Running on http://127.0.0.1:8050/ (Press CTRL+C to quit)\n",
      "127.0.0.1 - - [25/Sep/2021 14:19:07] \"GET / HTTP/1.1\" 200 -\n",
      "127.0.0.1 - - [25/Sep/2021 14:19:07] \"GET /_favicon.ico?v=1.21.0 HTTP/1.1\" 200 -\n",
      "127.0.0.1 - - [25/Sep/2021 14:19:07] \"GET /_dash-layout HTTP/1.1\" 200 -\n",
      "127.0.0.1 - - [25/Sep/2021 14:19:07] \"GET /_dash-dependencies HTTP/1.1\" 200 -\n"
     ]
    }
   ],
   "source": [
    "import dash\n",
    "import dash_html_components as html\n",
    "\n",
    "app = dash.Dash(__name__)\n",
    "\n",
    "app.layout = html.H1('第一个Dash应用！')\n",
    "\n",
    "if __name__ == '__main__':\n",
    "    app.run_server()"
   ]
  },
  {
   "cell_type": "code",
   "execution_count": 2,
   "id": "f21f388c",
   "metadata": {},
   "outputs": [
    {
     "name": "stdout",
     "output_type": "stream",
     "text": [
      "Dash is running on http://127.0.0.1:8050/\n",
      "\n",
      "Dash is running on http://127.0.0.1:8050/\n",
      "\n",
      " * Serving Flask app '__main__' (lazy loading)\n",
      " * Environment: production\n",
      "\u001b[31m   WARNING: This is a development server. Do not use it in a production deployment.\u001b[0m\n",
      "\u001b[2m   Use a production WSGI server instead.\u001b[0m\n",
      " * Debug mode: off\n"
     ]
    },
    {
     "name": "stderr",
     "output_type": "stream",
     "text": [
      " * Running on http://127.0.0.1:8050/ (Press CTRL+C to quit)\n",
      "127.0.0.1 - - [25/Sep/2021 15:42:36] \"GET / HTTP/1.1\" 200 -\n",
      "127.0.0.1 - - [25/Sep/2021 15:42:37] \"GET /_dash-layout HTTP/1.1\" 200 -\n",
      "127.0.0.1 - - [25/Sep/2021 15:42:37] \"GET /_dash-dependencies HTTP/1.1\" 200 -\n"
     ]
    }
   ],
   "source": [
    "import dash\n",
    "import dash_html_components as html\n",
    "\n",
    "app = dash.Dash(__name__)\n",
    "\n",
    "app.layout = html.Div(\n",
    "    [\n",
    "        html.H1('标题1'),\n",
    "        html.H1('标题2'),\n",
    "        html.P(['测试', html.Br(), '测试']),\n",
    "        html.Table(\n",
    "            html.Tr(\n",
    "                [\n",
    "                    html.Td('第一列'),\n",
    "                    html.Td('第二列')\n",
    "                ]\n",
    "            )\n",
    "        )\n",
    "    ]\n",
    ")\n",
    "\n",
    "if __name__ == '__main__':\n",
    "    app.run_server()"
   ]
  },
  {
   "cell_type": "markdown",
   "id": "5c3dab53",
   "metadata": {},
   "source": [
    "## 实现下拉框"
   ]
  },
  {
   "cell_type": "code",
   "execution_count": 3,
   "id": "1c73564b",
   "metadata": {},
   "outputs": [
    {
     "name": "stdout",
     "output_type": "stream",
     "text": [
      "Dash is running on http://127.0.0.1:8050/\n",
      "\n",
      "Dash is running on http://127.0.0.1:8050/\n",
      "\n",
      "Dash is running on http://127.0.0.1:8050/\n",
      "\n",
      " * Serving Flask app '__main__' (lazy loading)\n",
      " * Environment: production\n",
      "\u001b[31m   WARNING: This is a development server. Do not use it in a production deployment.\u001b[0m\n",
      "\u001b[2m   Use a production WSGI server instead.\u001b[0m\n",
      " * Debug mode: off\n"
     ]
    },
    {
     "name": "stderr",
     "output_type": "stream",
     "text": [
      " * Running on http://127.0.0.1:8050/ (Press CTRL+C to quit)\n",
      "127.0.0.1 - - [25/Sep/2021 15:46:58] \"GET / HTTP/1.1\" 200 -\n",
      "127.0.0.1 - - [25/Sep/2021 15:46:58] \"GET /_dash-layout HTTP/1.1\" 200 -\n",
      "127.0.0.1 - - [25/Sep/2021 15:46:58] \"GET /_dash-dependencies HTTP/1.1\" 200 -\n",
      "127.0.0.1 - - [25/Sep/2021 15:46:58] \"GET /_dash-component-suites/dash_core_components/async-dropdown.js HTTP/1.1\" 200 -\n"
     ]
    }
   ],
   "source": [
    "import dash\n",
    "import dash_html_components as html\n",
    "import dash_core_components as dcc\n",
    "\n",
    "app = dash.Dash(__name__)\n",
    "\n",
    "app.layout = html.Div(\n",
    "    [\n",
    "        html.H1('下拉选择'),\n",
    "        html.Br(),\n",
    "        dcc.Dropdown(\n",
    "            options=[\n",
    "                {'label': '选项一', 'value': 1},\n",
    "                {'label': '选项二', 'value': 2},\n",
    "                {'label': '选项三', 'value': 3}\n",
    "            ]\n",
    "        )\n",
    "    ]\n",
    ")\n",
    "\n",
    "if __name__ == '__main__':\n",
    "    app.run_server()"
   ]
  },
  {
   "cell_type": "markdown",
   "id": "ba807f05",
   "metadata": {},
   "source": [
    "## 嵌入plotly可视化"
   ]
  },
  {
   "cell_type": "code",
   "execution_count": 5,
   "id": "3494fe97",
   "metadata": {},
   "outputs": [
    {
     "name": "stdout",
     "output_type": "stream",
     "text": [
      "Dash is running on http://127.0.0.1:8050/\n",
      "\n",
      "Dash is running on http://127.0.0.1:8050/\n",
      "\n",
      "Dash is running on http://127.0.0.1:8050/\n",
      "\n",
      "Dash is running on http://127.0.0.1:8050/\n",
      "\n",
      "Dash is running on http://127.0.0.1:8050/\n",
      "\n",
      " * Serving Flask app '__main__' (lazy loading)\n",
      " * Environment: production\n",
      "\u001b[31m   WARNING: This is a development server. Do not use it in a production deployment.\u001b[0m\n",
      "\u001b[2m   Use a production WSGI server instead.\u001b[0m\n",
      " * Debug mode: off\n"
     ]
    },
    {
     "name": "stderr",
     "output_type": "stream",
     "text": [
      " * Running on http://127.0.0.1:8050/ (Press CTRL+C to quit)\n",
      "127.0.0.1 - - [25/Sep/2021 16:18:14] \"GET / HTTP/1.1\" 200 -\n",
      "127.0.0.1 - - [25/Sep/2021 16:18:15] \"GET /_dash-dependencies HTTP/1.1\" 200 -\n",
      "127.0.0.1 - - [25/Sep/2021 16:18:15] \"GET /_dash-layout HTTP/1.1\" 200 -\n",
      "127.0.0.1 - - [25/Sep/2021 16:18:15] \"GET /_dash-component-suites/dash_core_components/async-graph.js HTTP/1.1\" 200 -\n",
      "127.0.0.1 - - [25/Sep/2021 16:18:15] \"GET /_dash-component-suites/dash_core_components/async-plotlyjs.js HTTP/1.1\" 200 -\n"
     ]
    }
   ],
   "source": [
    "import dash\n",
    "import dash_html_components as html\n",
    "import dash_core_components as dcc\n",
    "import plotly.express as px\n",
    "\n",
    "app = dash.Dash(__name__)\n",
    "\n",
    "fig = px.scatter(x=range(10), y=range(10))\n",
    "\n",
    "app.layout = html.Div(\n",
    "    [\n",
    "        html.H1('嵌入plotly图表'),\n",
    "        dcc.Graph(figure=fig)\n",
    "    ]\n",
    ")\n",
    "\n",
    "if __name__ == '__main__':\n",
    "    app.run_server()"
   ]
  },
  {
   "cell_type": "markdown",
   "id": "35ac1de3",
   "metadata": {},
   "source": [
    "## 实现交互回调"
   ]
  },
  {
   "cell_type": "code",
   "execution_count": 6,
   "id": "e34afc23",
   "metadata": {},
   "outputs": [
    {
     "name": "stdout",
     "output_type": "stream",
     "text": [
      "Dash is running on http://127.0.0.1:8050/\n",
      "\n",
      "Dash is running on http://127.0.0.1:8050/\n",
      "\n",
      "Dash is running on http://127.0.0.1:8050/\n",
      "\n",
      "Dash is running on http://127.0.0.1:8050/\n",
      "\n",
      "Dash is running on http://127.0.0.1:8050/\n",
      "\n",
      "Dash is running on http://127.0.0.1:8050/\n",
      "\n",
      " * Serving Flask app '__main__' (lazy loading)\n",
      " * Environment: production\n",
      "\u001b[31m   WARNING: This is a development server. Do not use it in a production deployment.\u001b[0m\n",
      "\u001b[2m   Use a production WSGI server instead.\u001b[0m\n",
      " * Debug mode: off\n"
     ]
    },
    {
     "name": "stderr",
     "output_type": "stream",
     "text": [
      " * Running on http://127.0.0.1:8050/ (Press CTRL+C to quit)\n",
      "127.0.0.1 - - [25/Sep/2021 16:22:40] \"GET / HTTP/1.1\" 200 -\n",
      "127.0.0.1 - - [25/Sep/2021 16:22:40] \"GET /_dash-layout HTTP/1.1\" 200 -\n",
      "127.0.0.1 - - [25/Sep/2021 16:22:40] \"GET /_dash-dependencies HTTP/1.1\" 200 -\n",
      "127.0.0.1 - - [25/Sep/2021 16:22:40] \"POST /_dash-update-component HTTP/1.1\" 200 -\n",
      "127.0.0.1 - - [25/Sep/2021 16:22:40] \"GET /_dash-component-suites/dash_core_components/async-dropdown.js HTTP/1.1\" 200 -\n",
      "127.0.0.1 - - [25/Sep/2021 16:22:42] \"POST /_dash-update-component HTTP/1.1\" 200 -\n",
      "127.0.0.1 - - [25/Sep/2021 16:22:44] \"POST /_dash-update-component HTTP/1.1\" 200 -\n"
     ]
    }
   ],
   "source": [
    "import dash\n",
    "import dash_html_components as html\n",
    "import dash_core_components as dcc\n",
    "from dash.dependencies import Input, Output\n",
    "\n",
    "app = dash.Dash(__name__)\n",
    "\n",
    "app.layout = html.Div(\n",
    "    [\n",
    "        html.H1('根据省名查询省会城市：'),\n",
    "        html.Br(),\n",
    "        dcc.Dropdown(\n",
    "            id='province',\n",
    "            options=[\n",
    "                {'label': '四川省', 'value': '四川省'},\n",
    "                {'label': '陕西省', 'value': '陕西省'},\n",
    "                {'label': '广东省', 'value': '广东省'}\n",
    "            ],\n",
    "            value='四川省'\n",
    "        ),\n",
    "        html.P(id='city')\n",
    "    ]\n",
    ")\n",
    "\n",
    "province2city_dict = {\n",
    "    '四川省': '成都市',\n",
    "    '陕西省': '西安市',\n",
    "    '广东省': '广州市'\n",
    "}\n",
    "\n",
    "@app.callback(Output('city', 'children'),\n",
    "              Input('province', 'value'))\n",
    "def province2city(province):\n",
    "\n",
    "    return province2city_dict[province]\n",
    "\n",
    "if __name__ == '__main__':\n",
    "    app.run_server()"
   ]
  },
  {
   "cell_type": "markdown",
   "id": "1d6245f7",
   "metadata": {},
   "source": [
    "## 监听图表交互式选择行为"
   ]
  },
  {
   "cell_type": "code",
   "execution_count": 7,
   "id": "e0b0d4e9",
   "metadata": {},
   "outputs": [
    {
     "name": "stdout",
     "output_type": "stream",
     "text": [
      "Dash is running on http://127.0.0.1:8050/\n",
      "\n",
      "Dash is running on http://127.0.0.1:8050/\n",
      "\n",
      "Dash is running on http://127.0.0.1:8050/\n",
      "\n",
      "Dash is running on http://127.0.0.1:8050/\n",
      "\n",
      "Dash is running on http://127.0.0.1:8050/\n",
      "\n",
      "Dash is running on http://127.0.0.1:8050/\n",
      "\n",
      "Dash is running on http://127.0.0.1:8050/\n",
      "\n",
      " * Serving Flask app '__main__' (lazy loading)\n",
      " * Environment: production\n",
      "\u001b[31m   WARNING: This is a development server. Do not use it in a production deployment.\u001b[0m\n",
      "\u001b[2m   Use a production WSGI server instead.\u001b[0m\n",
      " * Debug mode: off\n"
     ]
    },
    {
     "name": "stderr",
     "output_type": "stream",
     "text": [
      " * Running on http://127.0.0.1:8050/ (Press CTRL+C to quit)\n",
      "127.0.0.1 - - [25/Sep/2021 16:25:32] \"GET / HTTP/1.1\" 200 -\n",
      "127.0.0.1 - - [25/Sep/2021 16:25:32] \"GET /_dash-dependencies HTTP/1.1\" 200 -\n",
      "127.0.0.1 - - [25/Sep/2021 16:25:32] \"GET /_dash-layout HTTP/1.1\" 200 -\n",
      "127.0.0.1 - - [25/Sep/2021 16:25:32] \"GET /_dash-component-suites/dash_core_components/async-graph.js HTTP/1.1\" 200 -\n",
      "127.0.0.1 - - [25/Sep/2021 16:25:32] \"GET /_dash-component-suites/dash_core_components/async-plotlyjs.js HTTP/1.1\" 200 -\n",
      "127.0.0.1 - - [25/Sep/2021 16:25:32] \"POST /_dash-update-component HTTP/1.1\" 200 -\n",
      "127.0.0.1 - - [25/Sep/2021 16:25:33] \"POST /_dash-update-component HTTP/1.1\" 200 -\n",
      "127.0.0.1 - - [25/Sep/2021 16:25:34] \"POST /_dash-update-component HTTP/1.1\" 200 -\n",
      "127.0.0.1 - - [25/Sep/2021 16:25:36] \"POST /_dash-update-component HTTP/1.1\" 200 -\n",
      "127.0.0.1 - - [25/Sep/2021 16:25:38] \"POST /_dash-update-component HTTP/1.1\" 200 -\n",
      "127.0.0.1 - - [25/Sep/2021 16:25:40] \"POST /_dash-update-component HTTP/1.1\" 200 -\n",
      "127.0.0.1 - - [25/Sep/2021 16:25:47] \"POST /_dash-update-component HTTP/1.1\" 200 -\n",
      "127.0.0.1 - - [25/Sep/2021 16:25:48] \"POST /_dash-update-component HTTP/1.1\" 200 -\n",
      "127.0.0.1 - - [25/Sep/2021 16:25:51] \"POST /_dash-update-component HTTP/1.1\" 200 -\n",
      "127.0.0.1 - - [25/Sep/2021 16:25:53] \"POST /_dash-update-component HTTP/1.1\" 200 -\n",
      "127.0.0.1 - - [25/Sep/2021 16:25:54] \"POST /_dash-update-component HTTP/1.1\" 200 -\n",
      "127.0.0.1 - - [25/Sep/2021 16:25:54] \"POST /_dash-update-component HTTP/1.1\" 200 -\n",
      "127.0.0.1 - - [25/Sep/2021 16:25:55] \"POST /_dash-update-component HTTP/1.1\" 200 -\n",
      "127.0.0.1 - - [25/Sep/2021 16:25:56] \"POST /_dash-update-component HTTP/1.1\" 200 -\n",
      "127.0.0.1 - - [25/Sep/2021 16:25:57] \"POST /_dash-update-component HTTP/1.1\" 200 -\n",
      "127.0.0.1 - - [25/Sep/2021 16:25:59] \"POST /_dash-update-component HTTP/1.1\" 200 -\n"
     ]
    }
   ],
   "source": [
    "import dash\n",
    "import dash_core_components as dcc\n",
    "import dash_html_components as html\n",
    "from dash.dependencies import Input, Output\n",
    "import plotly.express as px\n",
    "\n",
    "app = dash.Dash(__name__)\n",
    "\n",
    "fig = px.scatter(x=range(10), y=range(10), height=400)\n",
    "fig.update_layout(clickmode='event+select')  # 设置点击模式\n",
    "\n",
    "app.layout = html.Div(\n",
    "    [\n",
    "        dcc.Graph(figure=fig, id='scatter'),\n",
    "        html.Hr(),\n",
    "        html.Div([\n",
    "            '悬浮事件：',\n",
    "            html.P(id='hover')\n",
    "        ]),\n",
    "        html.Hr(),\n",
    "        html.Div([\n",
    "            '点击事件：',\n",
    "            html.P(id='click')\n",
    "        ]),\n",
    "        html.Hr(),\n",
    "        html.Div([\n",
    "            '选择事件：',\n",
    "            html.P(id='select')\n",
    "        ]),\n",
    "        html.Hr(),\n",
    "        html.Div([\n",
    "            '框选事件：',\n",
    "            html.P(id='zoom')\n",
    "        ])\n",
    "    ]\n",
    ")\n",
    "\n",
    "\n",
    "# 多对多的回调函数\n",
    "@app.callback([Output('hover', 'children'),\n",
    "               Output('click', 'children'),\n",
    "               Output('select', 'children'),\n",
    "               Output('zoom', 'children'),],\n",
    "              [Input('scatter', 'hoverData'),\n",
    "               Input('scatter', 'clickData'),\n",
    "               Input('scatter', 'selectedData'),\n",
    "               Input('scatter', 'relayoutData')])\n",
    "def listen_to_hover(hoverData, clickData, selectedData, relayoutData):\n",
    "    return str(hoverData), str(clickData), str(selectedData), str(relayoutData)\n",
    "\n",
    "\n",
    "if __name__ == '__main__':\n",
    "    app.run_server()"
   ]
  },
  {
   "cell_type": "code",
   "execution_count": null,
   "id": "10a3c916",
   "metadata": {},
   "outputs": [],
   "source": []
  }
 ],
 "metadata": {
  "kernelspec": {
   "display_name": "Python 3",
   "language": "python",
   "name": "python3"
  },
  "language_info": {
   "codemirror_mode": {
    "name": "ipython",
    "version": 3
   },
   "file_extension": ".py",
   "mimetype": "text/x-python",
   "name": "python",
   "nbconvert_exporter": "python",
   "pygments_lexer": "ipython3",
   "version": "3.7.11"
  }
 },
 "nbformat": 4,
 "nbformat_minor": 5
}
